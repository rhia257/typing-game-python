{
 "cells": [
  {
   "cell_type": "code",
   "execution_count": 1,
   "id": "c61aa307-3f83-426a-aac8-9347ceeb77b8",
   "metadata": {},
   "outputs": [],
   "source": [
    "# Word bank with 20 words per difficulty level\n",
    "\n",
    "easy_words = [\n",
    "    \"bat\", \"dog\", \"toy\", \"cat\", \"rat\", \"law\", \"mud\", \"boy\",\n",
    "    \"the\", \"she\", \"red\", \"pop\", \"lie\", \"bay\", \"hay\", \"can\",\n",
    "    \"sad\", \"mad\", \"cap\", \"rap\"\n",
    "]\n",
    "\n",
    "medium_words = [\n",
    "    \"lemon\", \"cheese\", \"happy\", \"angry\", \"tomato\", \"carve\", \"tattoo\", \"water\",\n",
    "    \"walks\", \"visit\", \"liver\", \"flight\", \"height\", \"skirts\", \"house\", \"train\",\n",
    "    \"spoon\", \"tiger\", \"zebra\", \"doctor\"\n",
    "]\n",
    "\n",
    "hard_words = [\n",
    "    \"congratulations\", \"absolutely\", \"photosynthesis\", \"monstrosity\", \"university\",\n",
    "    \"cheeseburger\", \"accommodate\", \"suburban\", \"pizazz\", \"assuming\",\n",
    "    \"stewardess\", \"xylophone\", \"overzealous\", \"withdrawal\", \"wednesday\",\n",
    "    \"vulnerable\", \"visualization\", \"versatile\", \"veterinary\", \"vaccination\"\n",
    "]"
   ]
  },
  {
   "cell_type": "code",
   "execution_count": 2,
   "id": "54f97e35-eced-4a78-9bf9-9f041e2aa82e",
   "metadata": {},
   "outputs": [],
   "source": [
    "# Typing game functions\n",
    "\n",
    "import random\n",
    "import time\n",
    "\n",
    "# play_level simulates typing a word within a time limit based on difficulty\n",
    "def play_level(level, difficulty):\n",
    "    print(\"Difficulty settings: lower time limit for harder difficulties\")\n",
    "\n",
    "    if difficulty == \"easy\":\n",
    "        words = easy_words\n",
    "        time_limit = 10\n",
    "    elif difficulty == \"medium\":\n",
    "        words = medium_words\n",
    "        time_limit = 7\n",
    "    elif difficulty == \"hard\":\n",
    "        words = hard_words\n",
    "        time_limit = 5\n",
    "    else:\n",
    "        print(\"Invalid difficulty. Defaulting to medium.\")\n",
    "        words = medium_words\n",
    "        time_limit = 7\n",
    "\n",
    "    # Make the challenge word longer for higher levels\n",
    "    challenge_word = random.choice(words) * level\n",
    "\n",
    "    print(\"Level \" + str(level))\n",
    "    print(\"Type this word: \" + challenge_word)\n",
    "    print(\"You have \" + str(time_limit) + \" seconds...\")\n",
    "\n",
    "    start_time = time.time()\n",
    "    typed_word = input(\"> \")\n",
    "    elapsed = time.time() - start_time\n",
    "\n",
    "    if typed_word == challenge_word and elapsed <= time_limit:\n",
    "        print(\"Correct!\")\n",
    "        return True\n",
    "    else:\n",
    "        print(\"Too slow or incorrect!\")\n",
    "        return False\n",
    "\n",
    "# Show progress after completing a level\n",
    "def show_progress(level):\n",
    "    print(\"Great job! You passed Level \" + str(level) + \"!\")"
   ]
  },
  {
   "cell_type": "code",
   "execution_count": 3,
   "id": "fe192cfb-feea-478c-b009-538ee47c381a",
   "metadata": {},
   "outputs": [
    {
     "name": "stdout",
     "output_type": "stream",
     "text": [
      "Welcome to the Speed Typing Challenge!\n"
     ]
    },
    {
     "name": "stdin",
     "output_type": "stream",
     "text": [
      "Are you ready to begin? (yes/no):  yes\n",
      "Choose difficulty (easy/medium/hard):  medium\n"
     ]
    },
    {
     "name": "stdout",
     "output_type": "stream",
     "text": [
      "Starting the game at medium difficulty...\n",
      "Difficulty settings: lower time limit for harder difficulties\n",
      "Level 1\n",
      "Type this word: tomato\n",
      "You have 7 seconds...\n"
     ]
    },
    {
     "name": "stdin",
     "output_type": "stream",
     "text": [
      ">  tomato\n"
     ]
    },
    {
     "name": "stdout",
     "output_type": "stream",
     "text": [
      "Correct!\n",
      "Great job! You passed Level 1!\n",
      "Difficulty settings: lower time limit for harder difficulties\n",
      "Level 2\n",
      "Type this word: flightflight\n",
      "You have 7 seconds...\n"
     ]
    },
    {
     "name": "stdin",
     "output_type": "stream",
     "text": [
      ">  flightflight\n"
     ]
    },
    {
     "name": "stdout",
     "output_type": "stream",
     "text": [
      "Correct!\n",
      "Great job! You passed Level 2!\n",
      "Difficulty settings: lower time limit for harder difficulties\n",
      "Level 3\n",
      "Type this word: heightheightheight\n",
      "You have 7 seconds...\n"
     ]
    },
    {
     "name": "stdin",
     "output_type": "stream",
     "text": [
      ">  heigthheightheight\n"
     ]
    },
    {
     "name": "stdout",
     "output_type": "stream",
     "text": [
      "Too slow or incorrect!\n",
      "Game over! You reached Level 3\n",
      "Thanks for playing!\n"
     ]
    }
   ],
   "source": [
    "# Main game loop\n",
    "# Welcome message\n",
    "print(\"Welcome to the Speed Typing Challenge!\")\n",
    "\n",
    "# Ask if ready\n",
    "begin = input(\"Are you ready to begin? (yes/no): \").strip().lower()\n",
    "\n",
    "if begin != \"yes\":\n",
    "    print(\"Maybe next time!\")\n",
    "else:\n",
    "    # Ask for difficulty\n",
    "    difficulty = input(\"Choose difficulty (easy/medium/hard): \").strip().lower()\n",
    "\n",
    "    # Starting level\n",
    "    level = 1\n",
    "    print(\"Starting the game at \" + difficulty + \" difficulty...\")\n",
    "\n",
    "    # Main loop\n",
    "    while True:\n",
    "        passed = play_level(level, difficulty)\n",
    "        if not passed:\n",
    "            print(\"Game over! You reached Level \" + str(level))\n",
    "            break\n",
    "        else:\n",
    "            show_progress(level)\n",
    "            level = level + 1\n",
    "\n",
    "    print(\"Thanks for playing!\")"
   ]
  },
  {
   "cell_type": "code",
   "execution_count": null,
   "id": "6729a9a4-ff47-43cc-b243-5516fc9adc9a",
   "metadata": {},
   "outputs": [],
   "source": []
  }
 ],
 "metadata": {
  "kernelspec": {
   "display_name": "Python 3 (ipykernel)",
   "language": "python",
   "name": "python3"
  },
  "language_info": {
   "codemirror_mode": {
    "name": "ipython",
    "version": 3
   },
   "file_extension": ".py",
   "mimetype": "text/x-python",
   "name": "python",
   "nbconvert_exporter": "python",
   "pygments_lexer": "ipython3",
   "version": "3.13.5"
  }
 },
 "nbformat": 4,
 "nbformat_minor": 5
}
